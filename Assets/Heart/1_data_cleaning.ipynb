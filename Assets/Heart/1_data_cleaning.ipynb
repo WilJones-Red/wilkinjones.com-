{
 "cells": [
  {
   "cell_type": "markdown",
   "id": "2d55a418",
   "metadata": {},
   "source": [
    "# 1. Data Cleaning\n",
    "This notebook loads and cleans the heart disease dataset."
   ]
  },
  {
   "cell_type": "code",
   "execution_count": null,
   "id": "2cbc1f5e",
   "metadata": {},
   "outputs": [],
   "source": [
    "import pandas as pd\n",
    "\n",
    "# Load the dataset\n",
    "df = pd.read_csv(\"processed_cleveland_clean.csv\")\n",
    "df.head()"
   ]
  },
  {
   "cell_type": "markdown",
   "id": "ebbc7df9",
   "metadata": {},
   "source": [
    "## Drop rows with missing values"
   ]
  },
  {
   "cell_type": "code",
   "execution_count": null,
   "id": "56ba752e",
   "metadata": {},
   "outputs": [],
   "source": [
    "# Drop rows with any missing values\n",
    "df = df.dropna()\n",
    "print(f\"Remaining rows after dropping NA: {len(df)}\")"
   ]
  },
  {
   "cell_type": "markdown",
   "id": "96597d32",
   "metadata": {},
   "source": [
    "## Convert `num` to binary target `target`"
   ]
  },
  {
   "cell_type": "code",
   "execution_count": null,
   "id": "ce2edbb7",
   "metadata": {},
   "outputs": [],
   "source": [
    "# If 'num' is still present, use it to create a binary target\n",
    "if 'num' in df.columns:\n",
    "    df['target'] = df['num'].apply(lambda x: 1 if x > 0 else 0)\n",
    "    df.drop('num', axis=1, inplace=True)\n",
    "\n",
    "df['target'].value_counts()"
   ]
  },
  {
   "cell_type": "markdown",
   "id": "b1473550",
   "metadata": {},
   "source": [
    "## Save cleaned dataset"
   ]
  },
  {
   "cell_type": "code",
   "execution_count": null,
   "id": "ff081801",
   "metadata": {},
   "outputs": [],
   "source": [
    "df.to_csv(\"cleaned_heart_data.csv\", index=False)\n",
    "print(\"✅ Cleaned data saved as 'cleaned_heart_data.csv'\")"
   ]
  }
 ],
 "metadata": {},
 "nbformat": 4,
 "nbformat_minor": 5
}
