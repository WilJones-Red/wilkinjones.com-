{
 "cells": [
  {
   "cell_type": "markdown",
   "id": "ef078f95",
   "metadata": {},
   "source": [
    "# 2. Exploratory Data Analysis (EDA)"
   ]
  },
  {
   "cell_type": "code",
   "execution_count": null,
   "id": "2c6f398a",
   "metadata": {},
   "outputs": [],
   "source": [
    "import pandas as pd\n",
    "import matplotlib.pyplot as plt\n",
    "import seaborn as sns\n",
    "\n",
    "# Load cleaned data\n",
    "df = pd.read_csv(\"cleaned_heart_data.csv\")\n",
    "df.head()"
   ]
  },
  {
   "cell_type": "markdown",
   "id": "781c1f47",
   "metadata": {},
   "source": [
    "## Target Distribution"
   ]
  },
  {
   "cell_type": "code",
   "execution_count": null,
   "id": "2f615e5f",
   "metadata": {},
   "outputs": [],
   "source": [
    "sns.countplot(x='target', data=df)\n",
    "plt.title(\"Target Class Distribution\")\n",
    "plt.xlabel(\"Heart Disease (0 = No, 1 = Yes)\")\n",
    "plt.ylabel(\"Count\")\n",
    "plt.show()"
   ]
  },
  {
   "cell_type": "markdown",
   "id": "dbe01e59",
   "metadata": {},
   "source": [
    "## Correlation Heatmap"
   ]
  },
  {
   "cell_type": "code",
   "execution_count": null,
   "id": "742e81ea",
   "metadata": {},
   "outputs": [],
   "source": [
    "plt.figure(figsize=(12, 10))\n",
    "sns.heatmap(df.corr(), annot=True, fmt=\".2f\", cmap=\"coolwarm\")\n",
    "plt.title(\"Correlation Heatmap\")\n",
    "plt.show()"
   ]
  },
  {
   "cell_type": "markdown",
   "id": "8e1f8150",
   "metadata": {},
   "source": [
    "## Numerical Feature Distributions"
   ]
  },
  {
   "cell_type": "code",
   "execution_count": null,
   "id": "5fc1ab0d",
   "metadata": {},
   "outputs": [],
   "source": [
    "num_cols = ['age', 'trestbps', 'chol', 'thalach', 'oldpeak']\n",
    "df[num_cols].hist(bins=20, figsize=(14, 10))\n",
    "plt.tight_layout()\n",
    "plt.show()"
   ]
  },
  {
   "cell_type": "markdown",
   "id": "f70f4056",
   "metadata": {},
   "source": [
    "## Pair Plot by Target"
   ]
  },
  {
   "cell_type": "code",
   "execution_count": null,
   "id": "5768250d",
   "metadata": {},
   "outputs": [],
   "source": [
    "sns.pairplot(df[['age', 'chol', 'thalach', 'oldpeak', 'target']], hue='target')\n",
    "plt.show()"
   ]
  }
 ],
 "metadata": {},
 "nbformat": 4,
 "nbformat_minor": 5
}
