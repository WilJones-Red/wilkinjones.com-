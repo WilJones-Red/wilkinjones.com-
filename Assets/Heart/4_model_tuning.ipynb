{
 "cells": [
  {
   "cell_type": "markdown",
   "id": "b098cb7a",
   "metadata": {},
   "source": [
    "# 4. Model Tuning & Threshold Optimization"
   ]
  },
  {
   "cell_type": "code",
   "execution_count": null,
   "id": "dc77e9d7",
   "metadata": {},
   "outputs": [],
   "source": [
    "import pandas as pd\n",
    "import numpy as np\n",
    "import xgboost as xgb\n",
    "from sklearn.model_selection import train_test_split\n",
    "from sklearn.metrics import f1_score\n",
    "from sklearn.utils.class_weight import compute_sample_weight"
   ]
  },
  {
   "cell_type": "markdown",
   "id": "204cc669",
   "metadata": {},
   "source": [
    "## Load data and split"
   ]
  },
  {
   "cell_type": "code",
   "execution_count": null,
   "id": "884cf0d7",
   "metadata": {},
   "outputs": [],
   "source": [
    "df = pd.read_csv(\"engineered_heart_data.csv\")\n",
    "\n",
    "X = df.drop(\"target\", axis=1)\n",
    "y = df[\"target\"]\n",
    "\n",
    "X_train, X_val, y_train, y_val = train_test_split(X, y, stratify=y, test_size=0.2, random_state=42)\n",
    "sample_weights = compute_sample_weight(class_weight=\"balanced\", y=y_train)"
   ]
  },
  {
   "cell_type": "markdown",
   "id": "25269681",
   "metadata": {},
   "source": [
    "## Grid search over learning rates and thresholds"
   ]
  },
  {
   "cell_type": "code",
   "execution_count": null,
   "id": "1d1f030f",
   "metadata": {},
   "outputs": [],
   "source": [
    "import matplotlib.pyplot as plt\n",
    "from mpl_toolkits.mplot3d import Axes3D\n",
    "\n",
    "learning_rates = [0.01, 0.05, 0.1, 0.2]\n",
    "thresholds = np.arange(0.3, 0.71, 0.05)\n",
    "f1_matrix = np.zeros((len(learning_rates), len(thresholds)))\n",
    "\n",
    "for i, lr in enumerate(learning_rates):\n",
    "    model = xgb.XGBClassifier(\n",
    "        use_label_encoder=False,\n",
    "        eval_metric=\"logloss\",\n",
    "        objective=\"binary:logistic\",\n",
    "        learning_rate=lr,\n",
    "        n_estimators=50,\n",
    "        random_state=42\n",
    "    )\n",
    "    model.fit(X_train, y_train, sample_weight=sample_weights)\n",
    "    probs = model.predict_proba(X_val)[:, 1]\n",
    "    for j, t in enumerate(thresholds):\n",
    "        preds = (probs >= t).astype(int)\n",
    "        f1_matrix[i, j] = f1_score(y_val, preds)"
   ]
  },
  {
   "cell_type": "markdown",
   "id": "3a0373a2",
   "metadata": {},
   "source": [
    "## 3D plot of F1 scores"
   ]
  },
  {
   "cell_type": "code",
   "execution_count": null,
   "id": "63d3f765",
   "metadata": {},
   "outputs": [],
   "source": [
    "T, LR = np.meshgrid(thresholds, learning_rates)\n",
    "fig = plt.figure(figsize=(10, 6))\n",
    "ax = fig.add_subplot(111, projection='3d')\n",
    "surf = ax.plot_surface(LR, T, f1_matrix, cmap='viridis', edgecolor='k')\n",
    "ax.set_xlabel(\"Learning Rate\")\n",
    "ax.set_ylabel(\"Threshold\")\n",
    "ax.set_zlabel(\"F1 Score\")\n",
    "ax.set_title(\"F1 Score by Learning Rate and Threshold\")\n",
    "plt.tight_layout()\n",
    "plt.show()"
   ]
  },
  {
   "cell_type": "markdown",
   "id": "57c1c755",
   "metadata": {},
   "source": [
    "## Report best configuration"
   ]
  },
  {
   "cell_type": "code",
   "execution_count": null,
   "id": "e8c45569",
   "metadata": {},
   "outputs": [],
   "source": [
    "best_idx = np.unravel_index(np.argmax(f1_matrix, axis=None), f1_matrix.shape)\n",
    "best_lr = learning_rates[best_idx[0]]\n",
    "best_threshold = thresholds[best_idx[1]]\n",
    "best_f1 = f1_matrix[best_idx]\n",
    "\n",
    "print(\"🔥 Best Configuration Found:\")\n",
    "print(f\"Learning Rate: {best_lr}\")\n",
    "print(f\"Threshold    : {best_threshold}\")\n",
    "print(f\"F1 Score     : {best_f1:.4f}\")"
   ]
  }
 ],
 "metadata": {},
 "nbformat": 4,
 "nbformat_minor": 5
}
