{
 "cells": [
  {
   "cell_type": "markdown",
   "id": "f13b1bf1",
   "metadata": {},
   "source": [
    "# 5. Final Model Training and Holdout Evaluation"
   ]
  },
  {
   "cell_type": "code",
   "execution_count": null,
   "id": "4ad02c8f",
   "metadata": {},
   "outputs": [],
   "source": [
    "import pandas as pd\n",
    "import numpy as np\n",
    "import xgboost as xgb\n",
    "from sklearn.model_selection import train_test_split\n",
    "from sklearn.metrics import accuracy_score, precision_score, recall_score, f1_score, classification_report\n",
    "from sklearn.utils.class_weight import compute_sample_weight"
   ]
  },
  {
   "cell_type": "markdown",
   "id": "40d11f26",
   "metadata": {},
   "source": [
    "## Load engineered data"
   ]
  },
  {
   "cell_type": "code",
   "execution_count": null,
   "id": "d49e2f3d",
   "metadata": {},
   "outputs": [],
   "source": [
    "df = pd.read_csv(\"engineered_heart_data.csv\")\n",
    "\n",
    "X = df.drop(\"target\", axis=1)\n",
    "y = df[\"target\"]\n",
    "\n",
    "X_trainval, X_holdout, y_trainval, y_holdout = train_test_split(X, y, stratify=y, test_size=0.2, random_state=42)\n",
    "weights_full = compute_sample_weight(class_weight=\"balanced\", y=y_trainval)"
   ]
  },
  {
   "cell_type": "markdown",
   "id": "c23c1f36",
   "metadata": {},
   "source": [
    "## Final training with best hyperparameters (insert values)"
   ]
  },
  {
   "cell_type": "code",
   "execution_count": null,
   "id": "d0dfa70b",
   "metadata": {},
   "outputs": [],
   "source": [
    "# Use best hyperparameters from tuning notebook\n",
    "BEST_LEARNING_RATE = 0.05   # Replace with tuned value\n",
    "BEST_THRESHOLD = 0.45       # Replace with tuned threshold\n",
    "\n",
    "final_model = xgb.XGBClassifier(\n",
    "    use_label_encoder=False,\n",
    "    eval_metric=\"logloss\",\n",
    "    objective=\"binary:logistic\",\n",
    "    learning_rate=BEST_LEARNING_RATE,\n",
    "    n_estimators=50,\n",
    "    random_state=42\n",
    ")\n",
    "final_model.fit(X_trainval, y_trainval, sample_weight=weights_full)"
   ]
  },
  {
   "cell_type": "markdown",
   "id": "9fd6477e",
   "metadata": {},
   "source": [
    "## Evaluate on holdout set"
   ]
  },
  {
   "cell_type": "code",
   "execution_count": null,
   "id": "307dc598",
   "metadata": {},
   "outputs": [],
   "source": [
    "def evaluate(name, y_true, y_pred):\n",
    "    print(f\"\\n{name} Evaluation:\")\n",
    "    print(\"Accuracy :\", accuracy_score(y_true, y_pred))\n",
    "    print(\"Precision:\", precision_score(y_true, y_pred))\n",
    "    print(\"Recall   :\", recall_score(y_true, y_pred))\n",
    "    print(\"F1 Score :\", f1_score(y_true, y_pred))\n",
    "    print(\"\\nClassification Report:\\n\", classification_report(y_true, y_pred))"
   ]
  },
  {
   "cell_type": "code",
   "execution_count": null,
   "id": "08b6e73b",
   "metadata": {},
   "outputs": [],
   "source": [
    "# Predict with threshold\n",
    "probs = final_model.predict_proba(X_holdout)[:, 1]\n",
    "preds = (probs >= BEST_THRESHOLD).astype(int)\n",
    "\n",
    "evaluate(\"Holdout Set\", y_holdout, preds)"
   ]
  },
  {
   "cell_type": "markdown",
   "id": "b15cd895",
   "metadata": {},
   "source": [
    "## Save predictions"
   ]
  },
  {
   "cell_type": "code",
   "execution_count": null,
   "id": "246a6c3f",
   "metadata": {},
   "outputs": [],
   "source": [
    "output = X_holdout.copy()\n",
    "output[\"actual\"] = y_holdout\n",
    "output[\"predicted\"] = preds\n",
    "output.to_csv(\"final_holdout_predictions.csv\", index=False)\n",
    "print(\"✅ Saved final predictions to 'final_holdout_predictions.csv'\")"
   ]
  }
 ],
 "metadata": {},
 "nbformat": 4,
 "nbformat_minor": 5
}
